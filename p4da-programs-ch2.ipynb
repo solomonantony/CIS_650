{
 "cells": [
  {
   "cell_type": "markdown",
   "id": "ab2b97cc",
   "metadata": {},
   "source": [
    "Python for Data & Analytics<br>\n",
    "Chapter 2, Example Programs"
   ]
  },
  {
   "cell_type": "markdown",
   "id": "a8a4b2f9",
   "metadata": {},
   "source": [
    "Program 2-1"
   ]
  },
  {
   "cell_type": "code",
   "execution_count": null,
   "id": "29bcb96c",
   "metadata": {},
   "outputs": [],
   "source": [
    "sales = 132\n",
    "print(sales)"
   ]
  },
  {
   "cell_type": "markdown",
   "id": "e788ec0e",
   "metadata": {},
   "source": [
    "Program 2-2"
   ]
  },
  {
   "cell_type": "code",
   "execution_count": null,
   "id": "b7fa7435",
   "metadata": {},
   "outputs": [],
   "source": [
    "sales = 132\n",
    "print('Sales =', sales)"
   ]
  },
  {
   "cell_type": "markdown",
   "id": "ca8cdfed",
   "metadata": {},
   "source": [
    "Program 2-3"
   ]
  },
  {
   "cell_type": "code",
   "execution_count": null,
   "id": "1c172aca",
   "metadata": {},
   "outputs": [],
   "source": [
    "# The variable sales is created, initialized to 132, and the value is displayed\n",
    "sales = 132\n",
    "print('Sales =', sales)\n",
    "\n",
    "# The variable sales is set to a new value, and the new value is displayed\n",
    "sales = 143\n",
    "print('Sales is now =', sales)"
   ]
  },
  {
   "cell_type": "markdown",
   "id": "fa51c98e",
   "metadata": {},
   "source": [
    "Program 2-4"
   ]
  },
  {
   "cell_type": "code",
   "execution_count": null,
   "id": "426381e6",
   "metadata": {},
   "outputs": [],
   "source": [
    "name = input('Please enter your name: ')\n",
    "print('Hi', name)"
   ]
  },
  {
   "cell_type": "markdown",
   "id": "5ddd9ff1",
   "metadata": {},
   "source": [
    "Program 2-5"
   ]
  },
  {
   "cell_type": "code",
   "execution_count": null,
   "id": "e2173d04",
   "metadata": {},
   "outputs": [],
   "source": [
    "# Calculate the total of two numbers\n",
    "\n",
    "# Prompt for inputs\n",
    "value1 = float(input(\"Enter a number: \"))\n",
    "value2 = float(input(\"Enter another number: \"))\n",
    "\n",
    "# Sum the variables values\n",
    "total = value1 + value2\n",
    "\n",
    "# Display the result\n",
    "print(total)"
   ]
  },
  {
   "cell_type": "markdown",
   "id": "4a90ef40",
   "metadata": {},
   "source": [
    "Program 2-6"
   ]
  },
  {
   "cell_type": "code",
   "execution_count": null,
   "id": "814e9d4c",
   "metadata": {},
   "outputs": [],
   "source": [
    "# Calculate BMI, given height and weight\n",
    "\n",
    "# Prompt for inputs\n",
    "height = float(input(\"Enter height (inches): \"))\n",
    "weight = float(input(\"Enter weight (pounds): \"))\n",
    "\n",
    "# Calculate the BMI result:\n",
    "bmi = weight / (height ** 2) * 703\n",
    "\n",
    "# Display the result\n",
    "print(\"BMI =\", bmi)"
   ]
  },
  {
   "cell_type": "markdown",
   "id": "e6943a0a",
   "metadata": {},
   "source": [
    "Program 2-7"
   ]
  },
  {
   "cell_type": "code",
   "execution_count": null,
   "id": "a96eaf04",
   "metadata": {},
   "outputs": [],
   "source": [
    "# Calculate difference and percent difference between two values\n",
    "\n",
    "# Prompt for and get inputs\n",
    "salesHistory = float(input(\"Please enter last year's sales: \"))\n",
    "salesProjected = float(input(\"Please enter this year's projected sales: \"))\n",
    "\n",
    "# Calculate results\n",
    "salesChange = salesProjected - salesHistory\n",
    "salesChangePct = salesChange / salesHistory * 100\n",
    "\n",
    "# Display results\n",
    "print(\"Projected sales change:\", round(salesChange, 1))\n",
    "print(\"Projected sales % change:\", round(salesChangePct,1))"
   ]
  },
  {
   "cell_type": "markdown",
   "id": "9922f7c8",
   "metadata": {},
   "source": [
    "Program 2-8"
   ]
  },
  {
   "cell_type": "code",
   "execution_count": null,
   "id": "e361a488",
   "metadata": {},
   "outputs": [],
   "source": [
    "# Calculate the economic order quantity (EOQ)\n",
    "\n",
    "# Prompt for and get inputs\n",
    "demand = float(input(\"Enter the projected demand (units/year): \"))\n",
    "reorderCost = float(input(\"Enter the reorder cost ($/order): \"))\n",
    "holdingCost = float(input(\"Enter the holding cost ($/year/unit): \"))\n",
    "\n",
    "# Calculate result\n",
    "eoq = (2 * demand * reorderCost / holdingCost) ** .5\n",
    "\n",
    "# Display result\n",
    "print(\"Economic Order Quantity:\", round(eoq))"
   ]
  },
  {
   "cell_type": "markdown",
   "id": "46758199",
   "metadata": {},
   "source": [
    "Program 2-9"
   ]
  },
  {
   "cell_type": "code",
   "execution_count": null,
   "id": "0a5e3e0b",
   "metadata": {},
   "outputs": [],
   "source": [
    "# Calculate the EOQ – version 2: minimum order size\n",
    "\n",
    "# Prompt for and get inputs\n",
    "demand = float(input(\"Enter the projected demand (units/year): \"))\n",
    "reorderCost = float(input(\"Enter the reorder cost ($/order: \"))\n",
    "holdingCost = float(input(\"Enter the holding cost ($/year/unit: \"))\n",
    "minOrder = float(input(\"Enter the minimum order size (units/order): \"))\n",
    "\n",
    "# Calculate result\n",
    "eoq = (2 * demand * reorderCost / holdingCost) ** .5\n",
    "orderSize = max(eoq, minOrder) # account for the minimum order size\n",
    "\n",
    "# Display results\n",
    "print(\"\\nEconomic Order Quantity:\", round(eoq))\n",
    "print(\"Order Quantity:\", orderSize)\n"
   ]
  },
  {
   "cell_type": "markdown",
   "id": "e96387a0",
   "metadata": {},
   "source": [
    "Program 2-10"
   ]
  },
  {
   "cell_type": "code",
   "execution_count": null,
   "id": "cffea933",
   "metadata": {},
   "outputs": [],
   "source": [
    "# String concatenation\n",
    "\n",
    "message = 'Hi '\n",
    "name = input('Please enter your name: ')\n",
    "message += name + '!'\n",
    "print(message)"
   ]
  },
  {
   "cell_type": "markdown",
   "id": "ed46017b",
   "metadata": {},
   "source": [
    "Program 2-11"
   ]
  },
  {
   "cell_type": "code",
   "execution_count": null,
   "id": "43e309ac",
   "metadata": {},
   "outputs": [],
   "source": [
    "# String concatenation and some methods\n",
    "\n",
    "message = 'Hi '\n",
    "name = input('Please enter your name: ')\n",
    "name = name.strip().capitalize()\n",
    "message += name + '!'\n",
    "print(message)"
   ]
  },
  {
   "cell_type": "markdown",
   "id": "46b38883",
   "metadata": {},
   "source": [
    "Code from: Python for Data & Analytics, (c) 2023 Rose River Software, LLC"
   ]
  }
 ],
 "metadata": {
  "kernelspec": {
   "display_name": "Python 3 (ipykernel)",
   "language": "python",
   "name": "python3"
  },
  "language_info": {
   "codemirror_mode": {
    "name": "ipython",
    "version": 3
   },
   "file_extension": ".py",
   "mimetype": "text/x-python",
   "name": "python",
   "nbconvert_exporter": "python",
   "pygments_lexer": "ipython3",
   "version": "3.9.7"
  }
 },
 "nbformat": 4,
 "nbformat_minor": 5
}
